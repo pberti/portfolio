{
 "cells": [
  {
   "cell_type": "markdown",
   "metadata": {},
   "source": [
    "# Shelter Dogs\n",
    "For this project, we play the role of a volunteer data analyst for a shelter dog organization where the management have few questions. \n",
    "Data in CSV format is from Kaggle.com and is quite messy. The scope of this project is not to clean the data but rather to answer the questions using SQL. \n",
    "\n",
    "The database contains one table:\n",
    "\n",
    "<h4 id=\"shelter_dogs\"><code>shelter_dogs</code></h3>\n",
    "<table>\n",
    "<thead>\n",
    "<tr>\n",
    "<th>column</th>\n",
    "<th>data_type</th>\n",
    "<th>description</th>\n",
    "</tr>\n",
    "</thead>\n",
    "<tbody>\n",
    "<tr>\n",
    "<td><code>ID</code></td>\n",
    "<td><code>bigint</code></td>\n",
    "<td>Input ID</td>\n",
    "</tr>\n",
    "<tr>\n",
    "<td><code>name</code></td>\n",
    "<td><code>text</code></td>\n",
    "<td>Given name</td>\n",
    "</tr>\n",
    "<tr>\n",
    "<td><code>age</code></td>\n",
    "<td><code>double</code></td>\n",
    "<td>Estimate age</td>\n",
    "</tr>\n",
    "<tr>\n",
    "<td><code>sex</code></td>\n",
    "<td><code>text</code></td>\n",
    "<td>Sex</td>\n",
    "</tr>\n",
    "<tr>\n",
    "<td><code>breed</code></td>\n",
    "<td><code>text</code></td>\n",
    "<td>Breed</td>\n",
    "</tr>\n",
    "<tr>\n",
    "<td><code>date found</code></td>\n",
    "<td><code>text</code></td>\n",
    "<td>Date dog was found</td>\n",
    "</tr>\n",
    "<tr>\n",
    "<td><code>adoptable from</code></td>\n",
    "<td><code>text</code></td>\n",
    "<td>Date is ready for adoption</td>\n",
    "</tr>\n",
    "<tr>\n",
    "<td><code>posted</code></td>\n",
    "<td><code>text</code></td>\n",
    "<td>Date adoption ad is posted</td>\n",
    "</tr>\n",
    "<tr>\n",
    "<td><code>color</code></td>\n",
    "<td><code>text</code></td>\n",
    "<td>Fur collor</td>\n",
    "</tr>\n",
    "<tr>\n",
    "<td><code>coat</code></td>\n",
    "<td><code>text</code></td>\n",
    "<td>Coat length</td>\n",
    "</tr>\n",
    "<tr>\n",
    "<td><code>size</code></td>\n",
    "<td><code>text</code></td>\n",
    "<td>Size when found</td>\n",
    "</tr>\n",
    "<tr>\n",
    "<td><code>neutered</code></td>\n",
    "<td><code>text</code></td>\n",
    "<td>Neutered when found</td>\n",
    "</tr>\n",
    "<tr>\n",
    "<td><code>housebroken</code></td>\n",
    "<td><code>text</code></td>\n",
    "<td>Housebroken</td>\n",
    "</tr>\n",
    "<tr>\n",
    "<td><code>likes_people</code></td>\n",
    "<td><code>text</code></td>\n",
    "<td>Likes people</td>\n",
    "</tr>\n",
    "<tr>\n",
    "<td><code>likes_children</code></td>\n",
    "<td><code>text</code></td>\n",
    "<td>Likes children</td>\n",
    "</tr>\n",
    "<tr>\n",
    "<td><code>get_along_males</code></td>\n",
    "<td><code>text</code></td>\n",
    "<td>Get along male dogs</td>\n",
    "</tr>\n",
    "<tr>\n",
    "<td><code>get_along_females</code></td>\n",
    "<td><code>text</code></td>\n",
    "<td>Get along female dogs</td>\n",
    "</tr>\n",
    "<tr>\n",
    "<td><code>get_along_cats</code></td>\n",
    "<td><code>text</code></td>\n",
    "<td>Get along cats</td>\n",
    "</tr>\n",
    "<tr>\n",
    "<td><code>keep_in</code></td>\n",
    "<td><code>text</code></td>\n",
    "<td>Where recommended to keep</td>\n",
    "</tr>\n",
    "</tbody>\n",
    "</table>"
   ]
  },
  {
   "cell_type": "markdown",
   "metadata": {},
   "source": [
    "***1. Upload data to SQL server***\n",
    "\n",
    "To work with SQL requires a server. I choose an online server rather to work locally. Will use python’s module panda to read the CSV file and then push the data to the server. \n"
   ]
  },
  {
   "cell_type": "code",
   "execution_count": 1,
   "metadata": {},
   "outputs": [
    {
     "name": "stdout",
     "output_type": "stream",
     "text": [
      "Data_Exported\n"
     ]
    }
   ],
   "source": [
    "from sqlalchemy import create_engine\n",
    "import pandas as pd\n",
    "\n",
    "\n",
    "# Create connection to server\n",
    "host=\"sql.freedb.tech\"\n",
    "database=\"freedb_my_data\"\n",
    "user=\"freedb_albert\"\n",
    "password=\"w4F%404b7qdwXUS8&\"\n",
    "port = 3306\n",
    "\n",
    "def get_connection():\n",
    "    return create_engine(\n",
    "        url=\"mysql+pymysql://{0}:{1}@{2}:{3}/{4}\".format(\n",
    "            user, password, host, port, database\n",
    "        )\n",
    "    )\n",
    "\n",
    "# Send data from CSV file to server\n",
    "df = pd.read_csv('/Users/albert/DataAnalytics/1.Projects&Databases/6.(SQL)Shelter-Dogs/ShelterDogs.csv')\n",
    "df.to_sql('shelter_dogs',get_connection(), index=False)\n",
    "print (\"Data_Exported\")\n",
    "\n",
    "\n",
    "# Server to df (if needed) \n",
    "\n",
    "#    sql = \n",
    "\n",
    "#    '''\n",
    "#    SELECT * \n",
    "#    FROM shelter_dogs\n",
    "#    LIMIT 3;\n",
    "#    '''\n",
    "\n",
    "#    df = pd.read_sql(sql, get_connection())\n",
    "#    print (df)"
   ]
  },
  {
   "cell_type": "markdown",
   "metadata": {},
   "source": [
    "***2. Testing the connection and see the data***\n",
    "\n",
    "Created a new connection with SQLTOOLS in VS Code. "
   ]
  },
  {
   "cell_type": "code",
   "execution_count": null,
   "metadata": {
    "vscode": {
     "languageId": "sql"
    }
   },
   "outputs": [],
   "source": [
    "\n",
    "DESCRIBE shelter_dogs;\n",
    "\n",
    "SELECT * FROM shelter_dogs LIMIT 10;"
   ]
  },
  {
   "cell_type": "markdown",
   "metadata": {},
   "source": [
    "Connection successfully. From the first look can see bad data formatting, misspelling, missing data.\n",
    "\n",
    "***3. Any record for 'Border Terrier'?***"
   ]
  },
  {
   "cell_type": "code",
   "execution_count": null,
   "metadata": {
    "vscode": {
     "languageId": "sql"
    }
   },
   "outputs": [],
   "source": [
    "SELECT name \n",
    "FROM shelter_dogs\n",
    "WHERE name LIKE '_order%' "
   ]
  },
  {
   "cell_type": "markdown",
   "metadata": {},
   "source": [
    "No Border terrier in the name list."
   ]
  },
  {
   "cell_type": "markdown",
   "metadata": {},
   "source": [
    "***4. Check for missing data.***\n",
    "\n",
    "Perform a quick check for missing data.\n"
   ]
  },
  {
   "cell_type": "code",
   "execution_count": null,
   "metadata": {
    "vscode": {
     "languageId": "sql"
    }
   },
   "outputs": [],
   "source": [
    "SELECT  COUNT(*) AS total_rows,\n",
    "        COUNT(ID),\n",
    "        COUNT(name),\n",
    "        COUNT(age),\n",
    "        COUNT(sex),\n",
    "        COUNT(breed),\n",
    "        COUNT(date_found),\n",
    "        COUNT(neutered),\n",
    "        COUNT(housebroken),\n",
    "        COUNT(likes_people)\n",
    "FROM shelter_dogs;\n"
   ]
  },
  {
   "cell_type": "markdown",
   "metadata": {},
   "source": [
    "***5. Is ID the primary key / unique?***"
   ]
  },
  {
   "cell_type": "code",
   "execution_count": null,
   "metadata": {
    "vscode": {
     "languageId": "sql"
    }
   },
   "outputs": [],
   "source": [
    "SELECT ID, COUNT(ID)\n",
    "FROM shelter_dogs\n",
    "GROUP BY ID\n",
    "ORDER BY COUNT(ID) DESC;\n"
   ]
  },
  {
   "cell_type": "markdown",
   "metadata": {},
   "source": [
    "ID not unique. Not great."
   ]
  },
  {
   "cell_type": "markdown",
   "metadata": {},
   "source": [
    "***6. Are there duplicate rows?***"
   ]
  },
  {
   "cell_type": "code",
   "execution_count": null,
   "metadata": {
    "vscode": {
     "languageId": "sql"
    }
   },
   "outputs": [],
   "source": [
    "SELECT ID, name, age, sex, breed, date_found, adoptable_from, posted, color, coat, size, neutered, housebroken, likes_people, likes_children, get_along_males, get_along_females, get_along_cats, keep_in\n",
    "FROM shelter_dogs\n",
    "GROUP BY ID, name, age, sex, breed, date_found, adoptable_from, posted, color, coat, size, neutered, housebroken, likes_people, likes_children, get_along_males, get_along_females, get_along_cats, keep_in\n",
    "HAVING COUNT(*) > 1;\n"
   ]
  },
  {
   "cell_type": "markdown",
   "metadata": {},
   "source": [
    "No duplicate rows."
   ]
  },
  {
   "cell_type": "markdown",
   "metadata": {},
   "source": [
    "***7. Are more puppies or older dogs?***\n",
    "\n",
    "I am thinking to create 3 groups(bins) of age, up to 10 months for puppy, up to 12 years for adult and over 12 years old category."
   ]
  },
  {
   "cell_type": "code",
   "execution_count": null,
   "metadata": {
    "vscode": {
     "languageId": "sql"
    }
   },
   "outputs": [],
   "source": [
    "\n",
    "SELECT  category, \n",
    "        COUNT(category) as 'count',\n",
    "        CONCAT(ROUND( COUNT(category)/(SELECT COUNT(age) FROM shelter_dogs), 2),' %') AS percent\n",
    "        FROM(\n",
    "                SELECT  CASE WHEN age < 0.84 THEN 'puppy'\n",
    "                        WHEN age > 12.0 THEN 'old'\n",
    "                        ELSE 'adult'\n",
    "                        END AS category,\n",
    "                        age\n",
    "                FROM shelter_dogs\n",
    "            ) AS tab\n",
    "GROUP BY category\n",
    "ORDER BY count DESC"
   ]
  },
  {
   "cell_type": "markdown",
   "metadata": {},
   "source": [
    "***8. How many days pass from when a dog is found up to is ready for adoption.***\n",
    "\n",
    "One way would be to extract day, month and year. Then create new columns to easily extract date difference in days."
   ]
  },
  {
   "cell_type": "code",
   "execution_count": null,
   "metadata": {
    "vscode": {
     "languageId": "sql"
    }
   },
   "outputs": [],
   "source": [
    "\n",
    "\n",
    "-- extract number of days and count, where number of days more than 0\n",
    "SELECT  \n",
    "        DATEDIFF(adoptable_from_2, date_found_2) as days,\n",
    "        COUNT(*) as count\n",
    "\n",
    "FROM(\n",
    "        -- created new columns for date_found and adaptable_from in date format\n",
    "        WITH tab AS (\n",
    "\n",
    "                -- extract day, month, year from date_found and adaptable_from columns\n",
    "                SELECT  SUBSTRING_INDEX(date_found, '/', 1) AS date_found_month,\n",
    "                        SUBSTRING_INDEX( SUBSTRING_INDEX(date_found, '/', 2),'/',-1 ) AS date_found_day,\n",
    "                        SUBSTRING_INDEX(date_found, '/', -1) AS date_found_year,\n",
    "                        SUBSTRING_INDEX(adoptable_from, '/', 1) AS adoptable_from_month,\n",
    "                        SUBSTRING_INDEX( SUBSTRING_INDEX(adoptable_from, '/', 2),'/',-1 ) AS adoptable_from_day,\n",
    "                        SUBSTRING_INDEX(adoptable_from, '/', -1) AS adoptable_from_year\n",
    "                FROM shelter_dogs   \n",
    "\n",
    "                )           \n",
    "        \n",
    "        SELECT  DATE(CONCAT(date_found_year, '-',date_found_month, '-', date_found_day)) as date_found_2,\n",
    "                DATE(CONCAT(adoptable_from_year, '-',adoptable_from_month, '-', adoptable_from_day)) as adoptable_from_2 FROM tab\n",
    ") AS sub\n",
    "\n",
    "WHERE DATEDIFF(adoptable_from_2, date_found_2) >= 0 -- as they are dates with adoption dates before date found\n",
    "GROUP BY days\n",
    "ORDER BY count DESC"
   ]
  },
  {
   "cell_type": "markdown",
   "metadata": {},
   "source": [
    "***9. Create a new table with dog breeds.***"
   ]
  },
  {
   "cell_type": "code",
   "execution_count": null,
   "metadata": {
    "vscode": {
     "languageId": "sql"
    }
   },
   "outputs": [],
   "source": [
    "SELECT  ROW_NUMBER() OVER (ORDER BY breed) as ID,\n",
    "        breed\n",
    "FROM shelter_dogs\n",
    "WHERE breed NOT LIKE 'Adoptable From:'\n",
    "GROUP BY breed\n",
    "HAVING breed NOT LIKE '%Mix%'"
   ]
  },
  {
   "cell_type": "markdown",
   "metadata": {},
   "source": [
    "***10. Top 3 ranked dog names for both male and female***"
   ]
  },
  {
   "cell_type": "code",
   "execution_count": null,
   "metadata": {
    "vscode": {
     "languageId": "sql"
    }
   },
   "outputs": [],
   "source": [
    "SELECT name, sex, _count, _rank \n",
    "FROM (\n",
    "    SELECT  name, \n",
    "            sex, \n",
    "            COUNT(name) AS _count,\n",
    "            RANK() OVER(ORDER BY COUNT(name) DESC) AS _rank\n",
    "    FROM shelter_dogs\n",
    "    WHERE sex = 'male'\n",
    "    GROUP BY name ) AS male_table\n",
    "WHERE _rank < 4\n",
    "\n",
    "UNION\n",
    "\n",
    "SELECT name, sex, _count, _rank \n",
    "FROM (\n",
    "    SELECT  name, \n",
    "            sex, \n",
    "            COUNT(name) AS _count,\n",
    "            RANK() OVER(ORDER BY COUNT(name) DESC) AS _rank\n",
    "    FROM shelter_dogs\n",
    "    WHERE sex = 'female'\n",
    "    GROUP BY name ) AS female_table\n",
    "WHERE _rank < 4;"
   ]
  }
 ],
 "metadata": {
  "kernelspec": {
   "display_name": "Python 3",
   "language": "python",
   "name": "python3"
  },
  "language_info": {
   "codemirror_mode": {
    "name": "ipython",
    "version": 3
   },
   "file_extension": ".py",
   "mimetype": "text/x-python",
   "name": "python",
   "nbconvert_exporter": "python",
   "pygments_lexer": "ipython3",
   "version": "3.10.0"
  }
 },
 "nbformat": 4,
 "nbformat_minor": 2
}
